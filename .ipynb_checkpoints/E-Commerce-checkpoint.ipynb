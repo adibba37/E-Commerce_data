{
 "cells": [
  {
   "cell_type": "code",
   "execution_count": 1,
   "id": "b1cdde0a-f0a6-4088-b140-c5836651b7f3",
   "metadata": {
    "tags": []
   },
   "outputs": [],
   "source": [
    "# Import the required libraries\n",
    "import pandas as pd\n",
    "import numpy as np\n",
    "import matplotlib.pyplot as plt\n",
    "import seaborn as sns\n",
    "%matplotlib inline"
   ]
  },
  {
   "cell_type": "code",
   "execution_count": 2,
   "id": "3d4d2a73-84e8-4e12-9428-8d34707b7340",
   "metadata": {
    "tags": []
   },
   "outputs": [],
   "source": [
    "# Set features\n",
    "pd.set_option('display.float_format', lambda x: '{:.2f}'.format(x))\n",
    "plt.rcParams['figure.figsize']=(10,6)\n",
    "sns.set_style('whitegrid')"
   ]
  },
  {
   "cell_type": "code",
   "execution_count": 3,
   "id": "5636713f-95eb-4434-9591-fd20afa6047e",
   "metadata": {
    "tags": []
   },
   "outputs": [],
   "source": [
    "# Importing the dataset\n",
    "e_commerce = pd.read_csv('e_commerce.csv', parse_dates=['InvoiceDate'], encoding='latin-1')"
   ]
  },
  {
   "cell_type": "code",
   "execution_count": 4,
   "id": "cedb0b9e-2075-4944-a1c5-4eb5c2d9539d",
   "metadata": {
    "tags": []
   },
   "outputs": [
    {
     "data": {
      "text/html": [
       "<div>\n",
       "<style scoped>\n",
       "    .dataframe tbody tr th:only-of-type {\n",
       "        vertical-align: middle;\n",
       "    }\n",
       "\n",
       "    .dataframe tbody tr th {\n",
       "        vertical-align: top;\n",
       "    }\n",
       "\n",
       "    .dataframe thead th {\n",
       "        text-align: right;\n",
       "    }\n",
       "</style>\n",
       "<table border=\"1\" class=\"dataframe\">\n",
       "  <thead>\n",
       "    <tr style=\"text-align: right;\">\n",
       "      <th></th>\n",
       "      <th>InvoiceNo</th>\n",
       "      <th>StockCode</th>\n",
       "      <th>Description</th>\n",
       "      <th>InvoiceDate</th>\n",
       "      <th>CustomerID</th>\n",
       "      <th>Country</th>\n",
       "      <th>Quantity</th>\n",
       "      <th>UnitPrice</th>\n",
       "    </tr>\n",
       "  </thead>\n",
       "  <tbody>\n",
       "    <tr>\n",
       "      <th>0</th>\n",
       "      <td>536365</td>\n",
       "      <td>85123A</td>\n",
       "      <td>WHITE HANGING HEART T-LIGHT HOLDER</td>\n",
       "      <td>2010-12-01 08:26:00</td>\n",
       "      <td>17850.00</td>\n",
       "      <td>United Kingdom</td>\n",
       "      <td>6</td>\n",
       "      <td>2.55</td>\n",
       "    </tr>\n",
       "    <tr>\n",
       "      <th>1</th>\n",
       "      <td>536365</td>\n",
       "      <td>71053</td>\n",
       "      <td>WHITE METAL LANTERN</td>\n",
       "      <td>2010-12-01 08:26:00</td>\n",
       "      <td>17850.00</td>\n",
       "      <td>United Kingdom</td>\n",
       "      <td>6</td>\n",
       "      <td>3.39</td>\n",
       "    </tr>\n",
       "    <tr>\n",
       "      <th>2</th>\n",
       "      <td>536365</td>\n",
       "      <td>84406B</td>\n",
       "      <td>CREAM CUPID HEARTS COAT HANGER</td>\n",
       "      <td>2010-12-01 08:26:00</td>\n",
       "      <td>17850.00</td>\n",
       "      <td>United Kingdom</td>\n",
       "      <td>8</td>\n",
       "      <td>2.75</td>\n",
       "    </tr>\n",
       "    <tr>\n",
       "      <th>3</th>\n",
       "      <td>536365</td>\n",
       "      <td>84029G</td>\n",
       "      <td>KNITTED UNION FLAG HOT WATER BOTTLE</td>\n",
       "      <td>2010-12-01 08:26:00</td>\n",
       "      <td>17850.00</td>\n",
       "      <td>United Kingdom</td>\n",
       "      <td>6</td>\n",
       "      <td>3.39</td>\n",
       "    </tr>\n",
       "    <tr>\n",
       "      <th>4</th>\n",
       "      <td>536365</td>\n",
       "      <td>84029E</td>\n",
       "      <td>RED WOOLLY HOTTIE WHITE HEART.</td>\n",
       "      <td>2010-12-01 08:26:00</td>\n",
       "      <td>17850.00</td>\n",
       "      <td>United Kingdom</td>\n",
       "      <td>6</td>\n",
       "      <td>3.39</td>\n",
       "    </tr>\n",
       "  </tbody>\n",
       "</table>\n",
       "</div>"
      ],
      "text/plain": [
       "  InvoiceNo StockCode                          Description  \\\n",
       "0    536365    85123A   WHITE HANGING HEART T-LIGHT HOLDER   \n",
       "1    536365     71053                  WHITE METAL LANTERN   \n",
       "2    536365    84406B       CREAM CUPID HEARTS COAT HANGER   \n",
       "3    536365    84029G  KNITTED UNION FLAG HOT WATER BOTTLE   \n",
       "4    536365    84029E       RED WOOLLY HOTTIE WHITE HEART.   \n",
       "\n",
       "          InvoiceDate  CustomerID         Country  Quantity  UnitPrice  \n",
       "0 2010-12-01 08:26:00    17850.00  United Kingdom         6       2.55  \n",
       "1 2010-12-01 08:26:00    17850.00  United Kingdom         6       3.39  \n",
       "2 2010-12-01 08:26:00    17850.00  United Kingdom         8       2.75  \n",
       "3 2010-12-01 08:26:00    17850.00  United Kingdom         6       3.39  \n",
       "4 2010-12-01 08:26:00    17850.00  United Kingdom         6       3.39  "
      ]
     },
     "execution_count": 4,
     "metadata": {},
     "output_type": "execute_result"
    }
   ],
   "source": [
    "# Print the first five rows\n",
    "e_commerce.head()"
   ]
  },
  {
   "cell_type": "code",
   "execution_count": 5,
   "id": "5e736939-56b5-4ad2-85a4-a5bfd14466c3",
   "metadata": {
    "tags": []
   },
   "outputs": [
    {
     "data": {
      "text/html": [
       "<div>\n",
       "<style scoped>\n",
       "    .dataframe tbody tr th:only-of-type {\n",
       "        vertical-align: middle;\n",
       "    }\n",
       "\n",
       "    .dataframe tbody tr th {\n",
       "        vertical-align: top;\n",
       "    }\n",
       "\n",
       "    .dataframe thead th {\n",
       "        text-align: right;\n",
       "    }\n",
       "</style>\n",
       "<table border=\"1\" class=\"dataframe\">\n",
       "  <thead>\n",
       "    <tr style=\"text-align: right;\">\n",
       "      <th></th>\n",
       "      <th>InvoiceNo</th>\n",
       "      <th>StockCode</th>\n",
       "      <th>Description</th>\n",
       "      <th>InvoiceDate</th>\n",
       "      <th>CustomerID</th>\n",
       "      <th>Country</th>\n",
       "      <th>Quantity</th>\n",
       "      <th>UnitPrice</th>\n",
       "    </tr>\n",
       "  </thead>\n",
       "  <tbody>\n",
       "    <tr>\n",
       "      <th>541904</th>\n",
       "      <td>581587</td>\n",
       "      <td>22613</td>\n",
       "      <td>PACK OF 20 SPACEBOY NAPKINS</td>\n",
       "      <td>2011-12-09 12:50:00</td>\n",
       "      <td>12680.00</td>\n",
       "      <td>France</td>\n",
       "      <td>12</td>\n",
       "      <td>0.85</td>\n",
       "    </tr>\n",
       "    <tr>\n",
       "      <th>541905</th>\n",
       "      <td>581587</td>\n",
       "      <td>22899</td>\n",
       "      <td>CHILDREN'S APRON DOLLY GIRL</td>\n",
       "      <td>2011-12-09 12:50:00</td>\n",
       "      <td>12680.00</td>\n",
       "      <td>France</td>\n",
       "      <td>6</td>\n",
       "      <td>2.10</td>\n",
       "    </tr>\n",
       "    <tr>\n",
       "      <th>541906</th>\n",
       "      <td>581587</td>\n",
       "      <td>23254</td>\n",
       "      <td>CHILDRENS CUTLERY DOLLY GIRL</td>\n",
       "      <td>2011-12-09 12:50:00</td>\n",
       "      <td>12680.00</td>\n",
       "      <td>France</td>\n",
       "      <td>4</td>\n",
       "      <td>4.15</td>\n",
       "    </tr>\n",
       "    <tr>\n",
       "      <th>541907</th>\n",
       "      <td>581587</td>\n",
       "      <td>23255</td>\n",
       "      <td>CHILDRENS CUTLERY CIRCUS PARADE</td>\n",
       "      <td>2011-12-09 12:50:00</td>\n",
       "      <td>12680.00</td>\n",
       "      <td>France</td>\n",
       "      <td>4</td>\n",
       "      <td>4.15</td>\n",
       "    </tr>\n",
       "    <tr>\n",
       "      <th>541908</th>\n",
       "      <td>581587</td>\n",
       "      <td>22138</td>\n",
       "      <td>BAKING SET 9 PIECE RETROSPOT</td>\n",
       "      <td>2011-12-09 12:50:00</td>\n",
       "      <td>12680.00</td>\n",
       "      <td>France</td>\n",
       "      <td>3</td>\n",
       "      <td>4.95</td>\n",
       "    </tr>\n",
       "  </tbody>\n",
       "</table>\n",
       "</div>"
      ],
      "text/plain": [
       "       InvoiceNo StockCode                      Description  \\\n",
       "541904    581587     22613      PACK OF 20 SPACEBOY NAPKINS   \n",
       "541905    581587     22899     CHILDREN'S APRON DOLLY GIRL    \n",
       "541906    581587     23254    CHILDRENS CUTLERY DOLLY GIRL    \n",
       "541907    581587     23255  CHILDRENS CUTLERY CIRCUS PARADE   \n",
       "541908    581587     22138    BAKING SET 9 PIECE RETROSPOT    \n",
       "\n",
       "               InvoiceDate  CustomerID Country  Quantity  UnitPrice  \n",
       "541904 2011-12-09 12:50:00    12680.00  France        12       0.85  \n",
       "541905 2011-12-09 12:50:00    12680.00  France         6       2.10  \n",
       "541906 2011-12-09 12:50:00    12680.00  France         4       4.15  \n",
       "541907 2011-12-09 12:50:00    12680.00  France         4       4.15  \n",
       "541908 2011-12-09 12:50:00    12680.00  France         3       4.95  "
      ]
     },
     "execution_count": 5,
     "metadata": {},
     "output_type": "execute_result"
    }
   ],
   "source": [
    "# Print the last five rows\n",
    "e_commerce.tail()"
   ]
  },
  {
   "cell_type": "code",
   "execution_count": 6,
   "id": "28a9dbbf-6488-46cd-93d9-0d5702e0713d",
   "metadata": {
    "tags": []
   },
   "outputs": [
    {
     "data": {
      "text/plain": [
       "(541909, 8)"
      ]
     },
     "execution_count": 6,
     "metadata": {},
     "output_type": "execute_result"
    }
   ],
   "source": [
    "# Print the shape\n",
    "e_commerce.shape"
   ]
  },
  {
   "cell_type": "code",
   "execution_count": 7,
   "id": "3b5b413b-f095-488f-b5dd-319e09c303fd",
   "metadata": {
    "tags": []
   },
   "outputs": [
    {
     "data": {
      "text/plain": [
       "Index(['InvoiceNo', 'StockCode', 'Description', 'InvoiceDate', 'CustomerID',\n",
       "       'Country', 'Quantity', 'UnitPrice'],\n",
       "      dtype='object')"
      ]
     },
     "execution_count": 7,
     "metadata": {},
     "output_type": "execute_result"
    }
   ],
   "source": [
    "# Get the column names\n",
    "e_commerce.columns"
   ]
  },
  {
   "cell_type": "code",
   "execution_count": 8,
   "id": "5ced11a8-e959-4301-9808-2794b92ec7b0",
   "metadata": {
    "tags": []
   },
   "outputs": [
    {
     "data": {
      "text/plain": [
       "InvoiceNo              object\n",
       "StockCode              object\n",
       "Description            object\n",
       "InvoiceDate    datetime64[ns]\n",
       "CustomerID            float64\n",
       "Country                object\n",
       "Quantity                int64\n",
       "UnitPrice             float64\n",
       "dtype: object"
      ]
     },
     "execution_count": 8,
     "metadata": {},
     "output_type": "execute_result"
    }
   ],
   "source": [
    "# Get the data types\n",
    "e_commerce.dtypes"
   ]
  },
  {
   "cell_type": "code",
   "execution_count": 9,
   "id": "d0c4123b-77ef-4c13-8420-596ab1c95f5e",
   "metadata": {
    "tags": []
   },
   "outputs": [
    {
     "name": "stdout",
     "output_type": "stream",
     "text": [
      "<class 'pandas.core.frame.DataFrame'>\n",
      "RangeIndex: 541909 entries, 0 to 541908\n",
      "Data columns (total 8 columns):\n",
      " #   Column       Non-Null Count   Dtype         \n",
      "---  ------       --------------   -----         \n",
      " 0   InvoiceNo    541909 non-null  object        \n",
      " 1   StockCode    541909 non-null  object        \n",
      " 2   Description  540455 non-null  object        \n",
      " 3   InvoiceDate  541909 non-null  datetime64[ns]\n",
      " 4   CustomerID   406829 non-null  float64       \n",
      " 5   Country      541909 non-null  object        \n",
      " 6   Quantity     541909 non-null  int64         \n",
      " 7   UnitPrice    541909 non-null  float64       \n",
      "dtypes: datetime64[ns](1), float64(2), int64(1), object(4)\n",
      "memory usage: 33.1+ MB\n"
     ]
    }
   ],
   "source": [
    "# Get information about the dataset\n",
    "e_commerce.info()"
   ]
  },
  {
   "cell_type": "code",
   "execution_count": 10,
   "id": "347cce39-e95a-4250-a535-9c2ace3d5ede",
   "metadata": {
    "tags": []
   },
   "outputs": [
    {
     "data": {
      "text/plain": [
       "CustomerID     135080\n",
       "Description      1454\n",
       "InvoiceNo           0\n",
       "StockCode           0\n",
       "InvoiceDate         0\n",
       "Country             0\n",
       "Quantity            0\n",
       "UnitPrice           0\n",
       "dtype: int64"
      ]
     },
     "execution_count": 10,
     "metadata": {},
     "output_type": "execute_result"
    }
   ],
   "source": [
    "# Get the missing values\n",
    "e_commerce.isnull().sum().sort_values(ascending=False)"
   ]
  },
  {
   "cell_type": "code",
   "execution_count": 11,
   "id": "0f5c4efa-4cbf-4552-9eb9-6ead5df2bdeb",
   "metadata": {
    "tags": []
   },
   "outputs": [
    {
     "data": {
      "text/plain": [
       "InvoiceNo      0\n",
       "StockCode      0\n",
       "Description    0\n",
       "InvoiceDate    0\n",
       "CustomerID     0\n",
       "Country        0\n",
       "Quantity       0\n",
       "UnitPrice      0\n",
       "dtype: int64"
      ]
     },
     "execution_count": 11,
     "metadata": {},
     "output_type": "execute_result"
    }
   ],
   "source": [
    "# Drop missing values\n",
    "e_commerce.dropna(inplace=True)\n",
    "e_commerce.isnull().sum()"
   ]
  },
  {
   "cell_type": "code",
   "execution_count": 12,
   "id": "b2789e5b-4118-4134-a0fd-8cf3996dfb41",
   "metadata": {
    "tags": []
   },
   "outputs": [
    {
     "data": {
      "text/plain": [
       "(406829, 8)"
      ]
     },
     "execution_count": 12,
     "metadata": {},
     "output_type": "execute_result"
    }
   ],
   "source": [
    "e_commerce.shape"
   ]
  },
  {
   "cell_type": "code",
   "execution_count": 13,
   "id": "fba0edfb-7ef8-4dfe-8d44-06451d133ec5",
   "metadata": {
    "tags": []
   },
   "outputs": [],
   "source": [
    "# Calculate the sales price\n",
    "e_commerce['SalesPrice'] = e_commerce['UnitPrice'] * e_commerce['Quantity']"
   ]
  },
  {
   "cell_type": "code",
   "execution_count": 14,
   "id": "c99eb7ab-b568-479b-a2e9-30635cfddf29",
   "metadata": {
    "tags": []
   },
   "outputs": [],
   "source": [
    "# Extract date features from datetime\n",
    "e_commerce['Year']=pd.to_datetime(e_commerce['InvoiceDate']).dt.year\n",
    "e_commerce['Month']=pd.to_datetime(e_commerce['InvoiceDate']).dt.month\n",
    "e_commerce['Week']=pd.to_datetime(e_commerce['InvoiceDate']).dt.isocalendar().week\n",
    "e_commerce['DayOfWeek'] = e_commerce['InvoiceDate'].dt.day_name()\n",
    "e_commerce['Quarter']=pd.to_datetime(e_commerce['InvoiceDate']).dt.quarter\n",
    "e_commerce['Hour'] = e_commerce['InvoiceDate'].dt.hour"
   ]
  },
  {
   "cell_type": "code",
   "execution_count": 15,
   "id": "f2ed508e-ac0f-4778-bb97-d78a107a9d44",
   "metadata": {
    "tags": []
   },
   "outputs": [],
   "source": [
    "# Convert Week and CustomerID to their appropriate dtypes\n",
    "e_commerce['Week'] = e_commerce['Week'].astype('int64')\n",
    "e_commerce['CustomerID'] = e_commerce['CustomerID'].astype('int64')"
   ]
  },
  {
   "cell_type": "code",
   "execution_count": 16,
   "id": "b014b5bb-fd7c-463f-b015-8f50080858fe",
   "metadata": {
    "tags": []
   },
   "outputs": [
    {
     "data": {
      "text/html": [
       "<div>\n",
       "<style scoped>\n",
       "    .dataframe tbody tr th:only-of-type {\n",
       "        vertical-align: middle;\n",
       "    }\n",
       "\n",
       "    .dataframe tbody tr th {\n",
       "        vertical-align: top;\n",
       "    }\n",
       "\n",
       "    .dataframe thead th {\n",
       "        text-align: right;\n",
       "    }\n",
       "</style>\n",
       "<table border=\"1\" class=\"dataframe\">\n",
       "  <thead>\n",
       "    <tr style=\"text-align: right;\">\n",
       "      <th></th>\n",
       "      <th>count</th>\n",
       "      <th>mean</th>\n",
       "      <th>std</th>\n",
       "      <th>min</th>\n",
       "      <th>25%</th>\n",
       "      <th>50%</th>\n",
       "      <th>75%</th>\n",
       "      <th>max</th>\n",
       "    </tr>\n",
       "  </thead>\n",
       "  <tbody>\n",
       "    <tr>\n",
       "      <th>Quantity</th>\n",
       "      <td>406829.00</td>\n",
       "      <td>12.06</td>\n",
       "      <td>248.69</td>\n",
       "      <td>-80995.00</td>\n",
       "      <td>2.00</td>\n",
       "      <td>5.00</td>\n",
       "      <td>12.00</td>\n",
       "      <td>80995.00</td>\n",
       "    </tr>\n",
       "    <tr>\n",
       "      <th>UnitPrice</th>\n",
       "      <td>406829.00</td>\n",
       "      <td>3.46</td>\n",
       "      <td>69.32</td>\n",
       "      <td>0.00</td>\n",
       "      <td>1.25</td>\n",
       "      <td>1.95</td>\n",
       "      <td>3.75</td>\n",
       "      <td>38970.00</td>\n",
       "    </tr>\n",
       "    <tr>\n",
       "      <th>SalesPrice</th>\n",
       "      <td>406829.00</td>\n",
       "      <td>20.40</td>\n",
       "      <td>427.59</td>\n",
       "      <td>-168469.60</td>\n",
       "      <td>4.20</td>\n",
       "      <td>11.10</td>\n",
       "      <td>19.50</td>\n",
       "      <td>168469.60</td>\n",
       "    </tr>\n",
       "  </tbody>\n",
       "</table>\n",
       "</div>"
      ],
      "text/plain": [
       "               count  mean    std        min  25%   50%   75%       max\n",
       "Quantity   406829.00 12.06 248.69  -80995.00 2.00  5.00 12.00  80995.00\n",
       "UnitPrice  406829.00  3.46  69.32       0.00 1.25  1.95  3.75  38970.00\n",
       "SalesPrice 406829.00 20.40 427.59 -168469.60 4.20 11.10 19.50 168469.60"
      ]
     },
     "execution_count": 16,
     "metadata": {},
     "output_type": "execute_result"
    }
   ],
   "source": [
    "# Basic descriptive statistics for numerical columns\n",
    "e_commerce.loc[:, 'Quantity':'SalesPrice'].describe().T"
   ]
  },
  {
   "cell_type": "code",
   "execution_count": 17,
   "id": "305d55fa-4c3f-482a-a988-81de15b8adc6",
   "metadata": {
    "tags": []
   },
   "outputs": [
    {
     "data": {
      "text/html": [
       "<div>\n",
       "<style scoped>\n",
       "    .dataframe tbody tr th:only-of-type {\n",
       "        vertical-align: middle;\n",
       "    }\n",
       "\n",
       "    .dataframe tbody tr th {\n",
       "        vertical-align: top;\n",
       "    }\n",
       "\n",
       "    .dataframe thead th {\n",
       "        text-align: right;\n",
       "    }\n",
       "</style>\n",
       "<table border=\"1\" class=\"dataframe\">\n",
       "  <thead>\n",
       "    <tr style=\"text-align: right;\">\n",
       "      <th></th>\n",
       "      <th>count</th>\n",
       "      <th>unique</th>\n",
       "      <th>top</th>\n",
       "      <th>freq</th>\n",
       "    </tr>\n",
       "  </thead>\n",
       "  <tbody>\n",
       "    <tr>\n",
       "      <th>InvoiceNo</th>\n",
       "      <td>406829</td>\n",
       "      <td>22190</td>\n",
       "      <td>576339</td>\n",
       "      <td>542</td>\n",
       "    </tr>\n",
       "    <tr>\n",
       "      <th>StockCode</th>\n",
       "      <td>406829</td>\n",
       "      <td>3684</td>\n",
       "      <td>85123A</td>\n",
       "      <td>2077</td>\n",
       "    </tr>\n",
       "    <tr>\n",
       "      <th>Description</th>\n",
       "      <td>406829</td>\n",
       "      <td>3896</td>\n",
       "      <td>WHITE HANGING HEART T-LIGHT HOLDER</td>\n",
       "      <td>2070</td>\n",
       "    </tr>\n",
       "    <tr>\n",
       "      <th>Country</th>\n",
       "      <td>406829</td>\n",
       "      <td>37</td>\n",
       "      <td>United Kingdom</td>\n",
       "      <td>361878</td>\n",
       "    </tr>\n",
       "    <tr>\n",
       "      <th>DayOfWeek</th>\n",
       "      <td>406829</td>\n",
       "      <td>6</td>\n",
       "      <td>Thursday</td>\n",
       "      <td>82374</td>\n",
       "    </tr>\n",
       "  </tbody>\n",
       "</table>\n",
       "</div>"
      ],
      "text/plain": [
       "              count unique                                 top    freq\n",
       "InvoiceNo    406829  22190                              576339     542\n",
       "StockCode    406829   3684                              85123A    2077\n",
       "Description  406829   3896  WHITE HANGING HEART T-LIGHT HOLDER    2070\n",
       "Country      406829     37                      United Kingdom  361878\n",
       "DayOfWeek    406829      6                            Thursday   82374"
      ]
     },
     "execution_count": 17,
     "metadata": {},
     "output_type": "execute_result"
    }
   ],
   "source": [
    "# Basic descriptive statistics for categorical columns\n",
    "e_commerce.describe(include='object').T"
   ]
  },
  {
   "cell_type": "code",
   "execution_count": 18,
   "id": "85ba6a77-d62a-46b5-bb9e-2e780db58223",
   "metadata": {
    "tags": []
   },
   "outputs": [
    {
     "data": {
      "text/plain": [
       "4906888"
      ]
     },
     "execution_count": 18,
     "metadata": {},
     "output_type": "execute_result"
    }
   ],
   "source": [
    "# Total Quantity Sold\n",
    "Total_Quantity = e_commerce['Quantity'].sum()\n",
    "Total_Quantity"
   ]
  },
  {
   "cell_type": "markdown",
   "id": "8a6dd1c0-ac67-417c-a95f-a90afd91b314",
   "metadata": {},
   "source": [
    "+ The total Quantity Sold is **4,906,888**"
   ]
  },
  {
   "cell_type": "markdown",
   "id": "97f2752d-64e7-4c09-aa49-ef5696694c17",
   "metadata": {
    "tags": []
   },
   "source": [
    "### Sales analysis"
   ]
  },
  {
   "cell_type": "code",
   "execution_count": 19,
   "id": "ee8788ea-d437-41a7-ab5b-17ed274a10fb",
   "metadata": {
    "tags": []
   },
   "outputs": [
    {
     "data": {
      "text/plain": [
       "8300066.0"
      ]
     },
     "execution_count": 19,
     "metadata": {},
     "output_type": "execute_result"
    }
   ],
   "source": [
    "# Total Sales\n",
    "Total_sales = e_commerce['SalesPrice'].sum().round()\n",
    "Total_sales"
   ]
  },
  {
   "cell_type": "markdown",
   "id": "60310879-c9d6-4f2a-8b8f-abc6cc44e462",
   "metadata": {
    "tags": []
   },
   "source": [
    "+ The total Sales revenue is **8,300,066**."
   ]
  },
  {
   "cell_type": "code",
   "execution_count": 20,
   "id": "edc4872a-58a2-4777-bd0a-d04db54cc803",
   "metadata": {
    "tags": []
   },
   "outputs": [
    {
     "data": {
      "text/html": [
       "<div>\n",
       "<style scoped>\n",
       "    .dataframe tbody tr th:only-of-type {\n",
       "        vertical-align: middle;\n",
       "    }\n",
       "\n",
       "    .dataframe tbody tr th {\n",
       "        vertical-align: top;\n",
       "    }\n",
       "\n",
       "    .dataframe thead th {\n",
       "        text-align: right;\n",
       "    }\n",
       "</style>\n",
       "<table border=\"1\" class=\"dataframe\">\n",
       "  <thead>\n",
       "    <tr style=\"text-align: right;\">\n",
       "      <th></th>\n",
       "      <th>Year</th>\n",
       "      <th>SalesPrice</th>\n",
       "    </tr>\n",
       "  </thead>\n",
       "  <tbody>\n",
       "    <tr>\n",
       "      <th>0</th>\n",
       "      <td>2010</td>\n",
       "      <td>554604.00</td>\n",
       "    </tr>\n",
       "    <tr>\n",
       "      <th>1</th>\n",
       "      <td>2011</td>\n",
       "      <td>7745462.00</td>\n",
       "    </tr>\n",
       "  </tbody>\n",
       "</table>\n",
       "</div>"
      ],
      "text/plain": [
       "   Year  SalesPrice\n",
       "0  2010   554604.00\n",
       "1  2011  7745462.00"
      ]
     },
     "execution_count": 20,
     "metadata": {},
     "output_type": "execute_result"
    }
   ],
   "source": [
    "# Total Sales by year\n",
    "TotalSales_by_year = e_commerce.groupby('Year')['SalesPrice'].sum().round().reset_index()\n",
    "TotalSales_by_year"
   ]
  },
  {
   "cell_type": "markdown",
   "id": "45a52c71-5248-404a-8d9d-7f896ffce756",
   "metadata": {},
   "source": [
    "### Observation:\n",
    "+ There is a substantial increase in sales revenue from 2010 to 2011. The sales revenue has grown from **554,604** in 2010 to **7,745,462** in 2011"
   ]
  },
  {
   "cell_type": "code",
   "execution_count": 21,
   "id": "fa1213d0-f6c9-4c2d-839a-d32e870beaa4",
   "metadata": {
    "tags": []
   },
   "outputs": [
    {
     "data": {
      "text/html": [
       "<div>\n",
       "<style scoped>\n",
       "    .dataframe tbody tr th:only-of-type {\n",
       "        vertical-align: middle;\n",
       "    }\n",
       "\n",
       "    .dataframe tbody tr th {\n",
       "        vertical-align: top;\n",
       "    }\n",
       "\n",
       "    .dataframe thead th {\n",
       "        text-align: right;\n",
       "    }\n",
       "</style>\n",
       "<table border=\"1\" class=\"dataframe\">\n",
       "  <thead>\n",
       "    <tr style=\"text-align: right;\">\n",
       "      <th></th>\n",
       "      <th>Month</th>\n",
       "      <th>SalesPrice</th>\n",
       "    </tr>\n",
       "  </thead>\n",
       "  <tbody>\n",
       "    <tr>\n",
       "      <th>0</th>\n",
       "      <td>1</td>\n",
       "      <td>475074.00</td>\n",
       "    </tr>\n",
       "    <tr>\n",
       "      <th>1</th>\n",
       "      <td>2</td>\n",
       "      <td>436546.00</td>\n",
       "    </tr>\n",
       "    <tr>\n",
       "      <th>2</th>\n",
       "      <td>3</td>\n",
       "      <td>579965.00</td>\n",
       "    </tr>\n",
       "    <tr>\n",
       "      <th>3</th>\n",
       "      <td>4</td>\n",
       "      <td>426048.00</td>\n",
       "    </tr>\n",
       "    <tr>\n",
       "      <th>4</th>\n",
       "      <td>5</td>\n",
       "      <td>648251.00</td>\n",
       "    </tr>\n",
       "    <tr>\n",
       "      <th>5</th>\n",
       "      <td>6</td>\n",
       "      <td>608013.00</td>\n",
       "    </tr>\n",
       "    <tr>\n",
       "      <th>6</th>\n",
       "      <td>7</td>\n",
       "      <td>574238.00</td>\n",
       "    </tr>\n",
       "    <tr>\n",
       "      <th>7</th>\n",
       "      <td>8</td>\n",
       "      <td>616368.00</td>\n",
       "    </tr>\n",
       "    <tr>\n",
       "      <th>8</th>\n",
       "      <td>9</td>\n",
       "      <td>931440.00</td>\n",
       "    </tr>\n",
       "    <tr>\n",
       "      <th>9</th>\n",
       "      <td>10</td>\n",
       "      <td>974604.00</td>\n",
       "    </tr>\n",
       "    <tr>\n",
       "      <th>10</th>\n",
       "      <td>11</td>\n",
       "      <td>1132408.00</td>\n",
       "    </tr>\n",
       "    <tr>\n",
       "      <th>11</th>\n",
       "      <td>12</td>\n",
       "      <td>897110.00</td>\n",
       "    </tr>\n",
       "  </tbody>\n",
       "</table>\n",
       "</div>"
      ],
      "text/plain": [
       "    Month  SalesPrice\n",
       "0       1   475074.00\n",
       "1       2   436546.00\n",
       "2       3   579965.00\n",
       "3       4   426048.00\n",
       "4       5   648251.00\n",
       "5       6   608013.00\n",
       "6       7   574238.00\n",
       "7       8   616368.00\n",
       "8       9   931440.00\n",
       "9      10   974604.00\n",
       "10     11  1132408.00\n",
       "11     12   897110.00"
      ]
     },
     "execution_count": 21,
     "metadata": {},
     "output_type": "execute_result"
    }
   ],
   "source": [
    "# Total sales by month\n",
    "TotalSales_by_month = e_commerce.groupby('Month')['SalesPrice'].sum().round().reset_index()\n",
    "TotalSales_by_month"
   ]
  },
  {
   "cell_type": "code",
   "execution_count": 22,
   "id": "4a1de637-ffa1-456f-8a28-4ed24ba684a8",
   "metadata": {
    "tags": []
   },
   "outputs": [
    {
     "data": {
      "image/png": "[encoded data removed]",
      "text/plain": [
       "<Figure size 1000x600 with 1 Axes>"
      ]
     },
     "metadata": {},
     "output_type": "display_data"
    }
   ],
   "source": [
    "# Plot \n",
    "sns.barplot(x=TotalSales_by_month['Month'], y=TotalSales_by_month['SalesPrice']/1000000)\n",
    "plt.xlabel('Month')\n",
    "plt.ylabel('Sales (in millions $)')\n",
    "plt.title('Total Sales by Month')\n",
    "plt.tight_layout()\n",
    "plt.show()"
   ]
  },
  {
   "cell_type": "markdown",
   "id": "3fb7cf23-e556-4a04-b489-47906a207882",
   "metadata": {
    "tags": []
   },
   "source": [
    "### Observations: Trends and Patterns:\n",
    "\n",
    "+ **Seasonal Variation:** The sales fiugres exhibit some seasonal variation throughout the year. For instance, sales seem to increase in March, May, June, October, and November, showing potential peaks in customer demand during these months.\n",
    "\n",
    "+ **End of Year Increase:** Sales reach a peak in November (Month 11) and then decrease slightly in December (Month 12). This pattern could be attributed to the holiday season, where sales typically rise due to increased shopping activities during festive periods.\n",
    "\n",
    "+ **Sales Decline:** Months like February (Month 2) and April (Month 4) show relatively lower sales amounts compared to other months, showing a possible decline in customer spending during these periods."
   ]
  },
  {
   "cell_type": "code",
   "execution_count": 23,
   "id": "48cb0e7c-fa62-410d-82a7-4cfe5284702a",
   "metadata": {
    "tags": []
   },
   "outputs": [
    {
     "data": {
      "image/png": "[encoded data removed]",
      "text/plain": [
       "<Figure size 1000x600 with 1 Axes>"
      ]
     },
     "metadata": {},
     "output_type": "display_data"
    }
   ],
   "source": [
    "# Total sales by Week\n",
    "TotalSales_by_week = e_commerce.groupby('Week')['SalesPrice'].sum().round().reset_index()\n",
    "TotalSales_by_week\n",
    "# Plot \n",
    "plt.plot(TotalSales_by_week['Week'],TotalSales_by_week['SalesPrice'], marker='o', linestyle='-', color='blue')\n",
    "plt.xlabel('Week')\n",
    "plt.ylabel('Sales (in $)')\n",
    "plt.title('Total Sales by Week')\n",
    "plt.tight_layout()\n",
    "plt.show()"
   ]
  },
  {
   "cell_type": "markdown",
   "id": "cded0ef1-5366-40b5-8834-ffff3d5a00cc",
   "metadata": {
    "tags": []
   },
   "source": [
    "### Observation:\n",
    "+ The total sales amount for each week, indicating the company's performance over time. "
   ]
  },
  {
   "cell_type": "code",
   "execution_count": 24,
   "id": "34fe0b36-198d-4754-93cb-7c56ca3ea1cc",
   "metadata": {
    "tags": []
   },
   "outputs": [
    {
     "data": {
      "image/png": "[encoded data removed]",
      "text/plain": [
       "<Figure size 1000x600 with 1 Axes>"
      ]
     },
     "metadata": {},
     "output_type": "display_data"
    }
   ],
   "source": [
    "# Total sales by Weekday\n",
    "TotalSales_by_weekday = e_commerce.groupby('DayOfWeek')['SalesPrice'].sum().round().reset_index()\n",
    "TotalSales_by_weekday\n",
    "\n",
    "# Plot \n",
    "sns.barplot(x=TotalSales_by_weekday['DayOfWeek'], y=TotalSales_by_weekday['SalesPrice']/1000000)\n",
    "plt.xlabel('Day of the Week')\n",
    "plt.ylabel('Sales (in millions $)')\n",
    "plt.title('Total Sales by Day of the Week')\n",
    "plt.tight_layout()\n",
    "plt.show()"
   ]
  },
  {
   "cell_type": "markdown",
   "id": "1fa5f6d8-4f3c-4752-bfd4-9c6ecc77f330",
   "metadata": {
    "tags": []
   },
   "source": [
    "### Observations:\n",
    "+ **Thursday** has the highest sales amount, indicating that it is the most profitable day of the week for the company.\n",
    "+ **Sunday** has the lowest sales amount, suggesting that it is the least profitable day of the week.\n",
    "+ **Monday**, Tuesday, and Wednesday have relatively similar sales amounts, indicating consistent performance across these three days."
   ]
  },
  {
   "cell_type": "code",
   "execution_count": 25,
   "id": "92eb963b-366a-4b26-884f-78a1370a12c8",
   "metadata": {
    "tags": []
   },
   "outputs": [
    {
     "data": {
      "image/png": "[encoded data removed]",
      "text/plain": [
       "<Figure size 1000x600 with 1 Axes>"
      ]
     },
     "metadata": {},
     "output_type": "display_data"
    }
   ],
   "source": [
    "# Total sales by Quarter\n",
    "TotalSales_by_quarter = e_commerce.groupby('Quarter')['SalesPrice'].sum().round().reset_index()\n",
    "\n",
    "# Plot \n",
    "sns.barplot(x=TotalSales_by_quarter['Quarter'], y=TotalSales_by_quarter['SalesPrice']/1000000)\n",
    "plt.xlabel('Quarter')\n",
    "plt.ylabel('Sales (in millions $)')\n",
    "plt.title('Total Sales by Quarter')\n",
    "plt.tight_layout()\n",
    "plt.show()"
   ]
  },
  {
   "cell_type": "markdown",
   "id": "1951254d-5dcc-4779-9cfd-f7d4d257657e",
   "metadata": {
    "tags": []
   },
   "source": [
    "### Observation:\n",
    "+ The sales have increased progressively from Quarter 1 to Quarter 4. Quarter 4 has the highest sales amount, indicating the most significant sales performance during the year."
   ]
  },
  {
   "cell_type": "code",
   "execution_count": 26,
   "id": "19a6a008-9272-4483-a867-b67febba760c",
   "metadata": {
    "tags": []
   },
   "outputs": [
    {
     "data": {
      "image/png": "[encoded data removed]",
      "text/plain": [
       "<Figure size 1000x600 with 1 Axes>"
      ]
     },
     "metadata": {},
     "output_type": "display_data"
    }
   ],
   "source": [
    "# Total sales by Hourly\n",
    "TotalSales_by_hour = e_commerce.groupby('Hour')['SalesPrice'].sum().round().reset_index()\n",
    "\n",
    "# Plot \n",
    "sns.barplot(x=TotalSales_by_hour['Hour'], y=TotalSales_by_hour['SalesPrice']/1000000)\n",
    "plt.xlabel('Hour')\n",
    "plt.ylabel('Sales (in millions $)')\n",
    "plt.title('Total Sales by Hour')\n",
    "plt.tight_layout()\n",
    "plt.show()"
   ]
  },
  {
   "cell_type": "markdown",
   "id": "1913447e-26e0-435d-a4b1-57e1fe4fadfd",
   "metadata": {},
   "source": [
    "### Observation:\n",
    "  + Most of the sales revenues are generated between 9 a.m. and 3 p.m."
   ]
  },
  {
   "cell_type": "code",
   "execution_count": 27,
   "id": "6332669b-b64a-4c98-8b0a-e9e9d6c20232",
   "metadata": {
    "tags": []
   },
   "outputs": [
    {
     "data": {
      "image/png": "[encoded data removed]",
      "text/plain": [
       "<Figure size 1000x600 with 1 Axes>"
      ]
     },
     "metadata": {},
     "output_type": "display_data"
    }
   ],
   "source": [
    "# Total Quantity by Hourly\n",
    "Total_quantity_by_hour = e_commerce.groupby('Hour')['Quantity'].sum().round().reset_index()\n",
    "\n",
    "# Plot \n",
    "sns.barplot(x=Total_quantity_by_hour['Hour'], y=Total_quantity_by_hour['Quantity']/1000000)\n",
    "plt.xlabel('Hour')\n",
    "plt.ylabel('Quantity Sold (in millions $)')\n",
    "plt.title('Total Quantity Sold by Hour')\n",
    "plt.tight_layout()\n",
    "plt.show()"
   ]
  },
  {
   "cell_type": "markdown",
   "id": "d7d081e4-1592-4148-b183-c11e7aa521b0",
   "metadata": {
    "tags": []
   },
   "source": [
    "### Observation:\n",
    "  + Most of the transaction orders happen between 9 a.m. in the morning and 3 p.m. in the afternoon."
   ]
  },
  {
   "cell_type": "markdown",
   "id": "e7e89661-44e2-438e-ac01-5e9296d5d02a",
   "metadata": {
    "tags": []
   },
   "source": [
    "### Invoicing and Customer"
   ]
  },
  {
   "cell_type": "code",
   "execution_count": 28,
   "id": "dc165041-7941-43ac-b693-61d83cd1cf33",
   "metadata": {
    "tags": []
   },
   "outputs": [
    {
     "data": {
      "text/plain": [
       "22190"
      ]
     },
     "execution_count": 28,
     "metadata": {},
     "output_type": "execute_result"
    }
   ],
   "source": [
    "# Number of unique transcations\n",
    "e_commerce.InvoiceNo.nunique()"
   ]
  },
  {
   "cell_type": "code",
   "execution_count": 29,
   "id": "6e84d806-d037-4169-810f-417d62df9c65",
   "metadata": {
    "tags": []
   },
   "outputs": [
    {
     "data": {
      "text/plain": [
       "Timestamp('2011-12-09 12:50:00')"
      ]
     },
     "execution_count": 29,
     "metadata": {},
     "output_type": "execute_result"
    }
   ],
   "source": [
    "# The most recent invoice date\n",
    "e_commerce.InvoiceDate.max()"
   ]
  },
  {
   "cell_type": "code",
   "execution_count": 30,
   "id": "0b24dc7b-e6b4-4e61-9ab9-6262f51566a8",
   "metadata": {
    "tags": []
   },
   "outputs": [
    {
     "data": {
      "text/plain": [
       "Timestamp('2010-12-01 08:26:00')"
      ]
     },
     "execution_count": 30,
     "metadata": {},
     "output_type": "execute_result"
    }
   ],
   "source": [
    "# The earliest invoice date\n",
    "e_commerce.InvoiceDate.min()"
   ]
  },
  {
   "cell_type": "code",
   "execution_count": 31,
   "id": "673b574b-73e5-4afe-b717-bccb9c7fc72f",
   "metadata": {
    "tags": []
   },
   "outputs": [
    {
     "data": {
      "text/plain": [
       "4372"
      ]
     },
     "execution_count": 31,
     "metadata": {},
     "output_type": "execute_result"
    }
   ],
   "source": [
    "# Number of unique customers\n",
    "e_commerce.CustomerID.nunique()"
   ]
  },
  {
   "cell_type": "code",
   "execution_count": 32,
   "id": "e0a49477-75fe-4521-962b-e2e9496c5b4f",
   "metadata": {
    "tags": []
   },
   "outputs": [
    {
     "data": {
      "text/html": [
       "<div>\n",
       "<style scoped>\n",
       "    .dataframe tbody tr th:only-of-type {\n",
       "        vertical-align: middle;\n",
       "    }\n",
       "\n",
       "    .dataframe tbody tr th {\n",
       "        vertical-align: top;\n",
       "    }\n",
       "\n",
       "    .dataframe thead th {\n",
       "        text-align: right;\n",
       "    }\n",
       "</style>\n",
       "<table border=\"1\" class=\"dataframe\">\n",
       "  <thead>\n",
       "    <tr style=\"text-align: right;\">\n",
       "      <th></th>\n",
       "      <th>CustomerID</th>\n",
       "      <th>Description</th>\n",
       "      <th>SalesPrice</th>\n",
       "    </tr>\n",
       "  </thead>\n",
       "  <tbody>\n",
       "    <tr>\n",
       "      <th>129756</th>\n",
       "      <td>15098</td>\n",
       "      <td>PICNIC BASKET WICKER 60 PIECES</td>\n",
       "      <td>39619.50</td>\n",
       "    </tr>\n",
       "    <tr>\n",
       "      <th>262416</th>\n",
       "      <td>18102</td>\n",
       "      <td>VINTAGE UNION JACK MEMOBOARD</td>\n",
       "      <td>16592.08</td>\n",
       "    </tr>\n",
       "    <tr>\n",
       "      <th>177709</th>\n",
       "      <td>16210</td>\n",
       "      <td>BLACK RECORD COVER FRAME</td>\n",
       "      <td>16027.92</td>\n",
       "    </tr>\n",
       "    <tr>\n",
       "      <th>262438</th>\n",
       "      <td>18102</td>\n",
       "      <td>WOOD BLACK BOARD ANT WHITE FINISH</td>\n",
       "      <td>15351.00</td>\n",
       "    </tr>\n",
       "    <tr>\n",
       "      <th>262305</th>\n",
       "      <td>18102</td>\n",
       "      <td>CREAM HEART CARD HOLDER</td>\n",
       "      <td>14089.90</td>\n",
       "    </tr>\n",
       "    <tr>\n",
       "      <th>128488</th>\n",
       "      <td>15061</td>\n",
       "      <td>REGENCY CAKESTAND 3 TIER</td>\n",
       "      <td>14081.70</td>\n",
       "    </tr>\n",
       "    <tr>\n",
       "      <th>232549</th>\n",
       "      <td>17450</td>\n",
       "      <td>HEART OF WICKER LARGE</td>\n",
       "      <td>13427.64</td>\n",
       "    </tr>\n",
       "    <tr>\n",
       "      <th>232623</th>\n",
       "      <td>17450</td>\n",
       "      <td>WHITE HANGING HEART T-LIGHT HOLDER</td>\n",
       "      <td>13253.84</td>\n",
       "    </tr>\n",
       "    <tr>\n",
       "      <th>77201</th>\n",
       "      <td>14096</td>\n",
       "      <td>DOTCOM POSTAGE</td>\n",
       "      <td>11906.36</td>\n",
       "    </tr>\n",
       "    <tr>\n",
       "      <th>232613</th>\n",
       "      <td>17450</td>\n",
       "      <td>SET OF TEA COFFEE SUGAR TINS PANTRY</td>\n",
       "      <td>10566.73</td>\n",
       "    </tr>\n",
       "    <tr>\n",
       "      <th>232550</th>\n",
       "      <td>17450</td>\n",
       "      <td>HEART OF WICKER SMALL</td>\n",
       "      <td>10201.98</td>\n",
       "    </tr>\n",
       "    <tr>\n",
       "      <th>106053</th>\n",
       "      <td>14646</td>\n",
       "      <td>RABBIT NIGHT LIGHT</td>\n",
       "      <td>9568.48</td>\n",
       "    </tr>\n",
       "    <tr>\n",
       "      <th>262287</th>\n",
       "      <td>18102</td>\n",
       "      <td>BLACK HEART CARD HOLDER</td>\n",
       "      <td>9482.40</td>\n",
       "    </tr>\n",
       "    <tr>\n",
       "      <th>182462</th>\n",
       "      <td>16333</td>\n",
       "      <td>RED  HARMONICA IN BOX</td>\n",
       "      <td>8607.20</td>\n",
       "    </tr>\n",
       "    <tr>\n",
       "      <th>158567</th>\n",
       "      <td>15769</td>\n",
       "      <td>JUMBO BAG RED RETROSPOT</td>\n",
       "      <td>8077.00</td>\n",
       "    </tr>\n",
       "    <tr>\n",
       "      <th>106118</th>\n",
       "      <td>14646</td>\n",
       "      <td>ROUND SNACK BOXES SET OF4 WOODLAND</td>\n",
       "      <td>7956.00</td>\n",
       "    </tr>\n",
       "    <tr>\n",
       "      <th>232602</th>\n",
       "      <td>17450</td>\n",
       "      <td>RED HANGING HEART T-LIGHT HOLDER</td>\n",
       "      <td>7832.16</td>\n",
       "    </tr>\n",
       "    <tr>\n",
       "      <th>256621</th>\n",
       "      <td>17949</td>\n",
       "      <td>REGENCY TEAPOT ROSES</td>\n",
       "      <td>7530.60</td>\n",
       "    </tr>\n",
       "    <tr>\n",
       "      <th>262326</th>\n",
       "      <td>18102</td>\n",
       "      <td>DOORMAT NEW ENGLAND</td>\n",
       "      <td>7419.60</td>\n",
       "    </tr>\n",
       "    <tr>\n",
       "      <th>262319</th>\n",
       "      <td>18102</td>\n",
       "      <td>DOORMAT HEARTS</td>\n",
       "      <td>7419.60</td>\n",
       "    </tr>\n",
       "  </tbody>\n",
       "</table>\n",
       "</div>"
      ],
      "text/plain": [
       "        CustomerID                          Description  SalesPrice\n",
       "129756       15098       PICNIC BASKET WICKER 60 PIECES    39619.50\n",
       "262416       18102         VINTAGE UNION JACK MEMOBOARD    16592.08\n",
       "177709       16210             BLACK RECORD COVER FRAME    16027.92\n",
       "262438       18102    WOOD BLACK BOARD ANT WHITE FINISH    15351.00\n",
       "262305       18102              CREAM HEART CARD HOLDER    14089.90\n",
       "128488       15061             REGENCY CAKESTAND 3 TIER    14081.70\n",
       "232549       17450                HEART OF WICKER LARGE    13427.64\n",
       "232623       17450   WHITE HANGING HEART T-LIGHT HOLDER    13253.84\n",
       "77201        14096                       DOTCOM POSTAGE    11906.36\n",
       "232613       17450  SET OF TEA COFFEE SUGAR TINS PANTRY    10566.73\n",
       "232550       17450                HEART OF WICKER SMALL    10201.98\n",
       "106053       14646                   RABBIT NIGHT LIGHT     9568.48\n",
       "262287       18102              BLACK HEART CARD HOLDER     9482.40\n",
       "182462       16333               RED  HARMONICA IN BOX      8607.20\n",
       "158567       15769              JUMBO BAG RED RETROSPOT     8077.00\n",
       "106118       14646  ROUND SNACK BOXES SET OF4 WOODLAND      7956.00\n",
       "232602       17450     RED HANGING HEART T-LIGHT HOLDER     7832.16\n",
       "256621       17949                REGENCY TEAPOT ROSES      7530.60\n",
       "262326       18102                  DOORMAT NEW ENGLAND     7419.60\n",
       "262319       18102                       DOORMAT HEARTS     7419.60"
      ]
     },
     "execution_count": 32,
     "metadata": {},
     "output_type": "execute_result"
    }
   ],
   "source": [
    "customers_sales = e_commerce.groupby(['CustomerID','Description'])['SalesPrice'].sum().reset_index().sort_values(by='SalesPrice',ascending=False)\n",
    "customers_sales.head(20)"
   ]
  },
  {
   "cell_type": "markdown",
   "id": "d670c8d2-3e5d-413d-bf71-cfa0519e7778",
   "metadata": {},
   "source": [
    "### Observation:\n",
    "The results give useful information about the best-selling products and top contributing customers to sales revenue. This can help to identify popular products and customer preferences, guiding marketing, inventory management, and business strategies to increase sales and revenue. Focusing on high-revenue generating products and customers can also improve customer satisfaction and profitability."
   ]
  },
  {
   "cell_type": "code",
   "execution_count": 33,
   "id": "fbe6e653-cd01-4772-ba8d-b321bdeb9d74",
   "metadata": {
    "tags": []
   },
   "outputs": [
    {
     "data": {
      "text/html": [
       "<div>\n",
       "<style scoped>\n",
       "    .dataframe tbody tr th:only-of-type {\n",
       "        vertical-align: middle;\n",
       "    }\n",
       "\n",
       "    .dataframe tbody tr th {\n",
       "        vertical-align: top;\n",
       "    }\n",
       "\n",
       "    .dataframe thead th {\n",
       "        text-align: right;\n",
       "    }\n",
       "</style>\n",
       "<table border=\"1\" class=\"dataframe\">\n",
       "  <thead>\n",
       "    <tr style=\"text-align: right;\">\n",
       "      <th></th>\n",
       "      <th>CustomerID</th>\n",
       "      <th>Description</th>\n",
       "      <th>Quantity</th>\n",
       "    </tr>\n",
       "  </thead>\n",
       "  <tbody>\n",
       "    <tr>\n",
       "      <th>42855</th>\n",
       "      <td>13256</td>\n",
       "      <td>ASSTD DESIGN 3D PAPER STICKERS</td>\n",
       "      <td>12540</td>\n",
       "    </tr>\n",
       "    <tr>\n",
       "      <th>182464</th>\n",
       "      <td>16333</td>\n",
       "      <td>WORLD WAR 2 GLIDERS ASSTD DESIGNS</td>\n",
       "      <td>10080</td>\n",
       "    </tr>\n",
       "    <tr>\n",
       "      <th>186429</th>\n",
       "      <td>16422</td>\n",
       "      <td>BROCADE RING PURSE</td>\n",
       "      <td>10077</td>\n",
       "    </tr>\n",
       "    <tr>\n",
       "      <th>256615</th>\n",
       "      <td>17949</td>\n",
       "      <td>POPCORN HOLDER</td>\n",
       "      <td>9292</td>\n",
       "    </tr>\n",
       "    <tr>\n",
       "      <th>182462</th>\n",
       "      <td>16333</td>\n",
       "      <td>RED  HARMONICA IN BOX</td>\n",
       "      <td>8120</td>\n",
       "    </tr>\n",
       "    <tr>\n",
       "      <th>181469</th>\n",
       "      <td>16308</td>\n",
       "      <td>SMALL CHINESE STYLE SCISSOR</td>\n",
       "      <td>8000</td>\n",
       "    </tr>\n",
       "    <tr>\n",
       "      <th>224954</th>\n",
       "      <td>17306</td>\n",
       "      <td>PACK OF 12 LONDON TISSUES</td>\n",
       "      <td>6624</td>\n",
       "    </tr>\n",
       "    <tr>\n",
       "      <th>262305</th>\n",
       "      <td>18102</td>\n",
       "      <td>CREAM HEART CARD HOLDER</td>\n",
       "      <td>5946</td>\n",
       "    </tr>\n",
       "    <tr>\n",
       "      <th>27897</th>\n",
       "      <td>12901</td>\n",
       "      <td>WORLD WAR 2 GLIDERS ASSTD DESIGNS</td>\n",
       "      <td>5712</td>\n",
       "    </tr>\n",
       "    <tr>\n",
       "      <th>104558</th>\n",
       "      <td>14609</td>\n",
       "      <td>ESSENTIAL BALM 3.5g TIN IN ENVELOPE</td>\n",
       "      <td>5586</td>\n",
       "    </tr>\n",
       "    <tr>\n",
       "      <th>232550</th>\n",
       "      <td>17450</td>\n",
       "      <td>HEART OF WICKER SMALL</td>\n",
       "      <td>5286</td>\n",
       "    </tr>\n",
       "    <tr>\n",
       "      <th>28802</th>\n",
       "      <td>12931</td>\n",
       "      <td>ASSORTED COLOUR BIRD ORNAMENT</td>\n",
       "      <td>5048</td>\n",
       "    </tr>\n",
       "    <tr>\n",
       "      <th>106053</th>\n",
       "      <td>14646</td>\n",
       "      <td>RABBIT NIGHT LIGHT</td>\n",
       "      <td>4801</td>\n",
       "    </tr>\n",
       "    <tr>\n",
       "      <th>170504</th>\n",
       "      <td>16029</td>\n",
       "      <td>GROW A FLYTRAP OR SUNFLOWER IN TIN</td>\n",
       "      <td>4800</td>\n",
       "    </tr>\n",
       "    <tr>\n",
       "      <th>177709</th>\n",
       "      <td>16210</td>\n",
       "      <td>BLACK RECORD COVER FRAME</td>\n",
       "      <td>4728</td>\n",
       "    </tr>\n",
       "    <tr>\n",
       "      <th>229537</th>\n",
       "      <td>17381</td>\n",
       "      <td>PACK OF 12 LONDON TISSUES</td>\n",
       "      <td>4704</td>\n",
       "    </tr>\n",
       "    <tr>\n",
       "      <th>158567</th>\n",
       "      <td>15769</td>\n",
       "      <td>JUMBO BAG RED RETROSPOT</td>\n",
       "      <td>4700</td>\n",
       "    </tr>\n",
       "    <tr>\n",
       "      <th>27884</th>\n",
       "      <td>12901</td>\n",
       "      <td>RAIN PONCHO RETROSPOT</td>\n",
       "      <td>4632</td>\n",
       "    </tr>\n",
       "    <tr>\n",
       "      <th>106228</th>\n",
       "      <td>14646</td>\n",
       "      <td>SPACEBOY LUNCH BOX</td>\n",
       "      <td>4492</td>\n",
       "    </tr>\n",
       "    <tr>\n",
       "      <th>27881</th>\n",
       "      <td>12901</td>\n",
       "      <td>PACK OF 60 PINK PAISLEY CAKE CASES</td>\n",
       "      <td>4452</td>\n",
       "    </tr>\n",
       "  </tbody>\n",
       "</table>\n",
       "</div>"
      ],
      "text/plain": [
       "        CustomerID                          Description  Quantity\n",
       "42855        13256       ASSTD DESIGN 3D PAPER STICKERS     12540\n",
       "182464       16333    WORLD WAR 2 GLIDERS ASSTD DESIGNS     10080\n",
       "186429       16422                  BROCADE RING PURSE      10077\n",
       "256615       17949                       POPCORN HOLDER      9292\n",
       "182462       16333               RED  HARMONICA IN BOX       8120\n",
       "181469       16308          SMALL CHINESE STYLE SCISSOR      8000\n",
       "224954       17306           PACK OF 12 LONDON TISSUES       6624\n",
       "262305       18102              CREAM HEART CARD HOLDER      5946\n",
       "27897        12901    WORLD WAR 2 GLIDERS ASSTD DESIGNS      5712\n",
       "104558       14609  ESSENTIAL BALM 3.5g TIN IN ENVELOPE      5586\n",
       "232550       17450                HEART OF WICKER SMALL      5286\n",
       "28802        12931        ASSORTED COLOUR BIRD ORNAMENT      5048\n",
       "106053       14646                   RABBIT NIGHT LIGHT      4801\n",
       "170504       16029   GROW A FLYTRAP OR SUNFLOWER IN TIN      4800\n",
       "177709       16210             BLACK RECORD COVER FRAME      4728\n",
       "229537       17381           PACK OF 12 LONDON TISSUES       4704\n",
       "158567       15769              JUMBO BAG RED RETROSPOT      4700\n",
       "27884        12901                RAIN PONCHO RETROSPOT      4632\n",
       "106228       14646                  SPACEBOY LUNCH BOX       4492\n",
       "27881        12901   PACK OF 60 PINK PAISLEY CAKE CASES      4452"
      ]
     },
     "execution_count": 33,
     "metadata": {},
     "output_type": "execute_result"
    }
   ],
   "source": [
    "customers_quantity = e_commerce.groupby(['CustomerID','Description'])['Quantity'].sum().reset_index().sort_values(by='Quantity',ascending=False)\n",
    "customers_quantity.head(20)"
   ]
  },
  {
   "cell_type": "markdown",
   "id": "b42db91c-bfa9-4699-8827-3fc2d7fd3fa5",
   "metadata": {
    "tags": []
   },
   "source": [
    "### Observation:\n",
    "+ These results provide valuable insights into the purchasing behavior of top customers and highlight the customers who have made significant and large-scale purchases. This information can be used to identify key customers, understand their preferences, and plan targeted marketing strategies to retain loyal customers and attract new ones. Additionally, it can also indicate the popularity of products or items among customers, potentially guiding decisions related to inventory management and stock availability."
   ]
  },
  {
   "cell_type": "code",
   "execution_count": 34,
   "id": "bafe4e72-047d-404e-b574-3b279ccd8702",
   "metadata": {
    "tags": []
   },
   "outputs": [
    {
     "data": {
      "text/html": [
       "<div>\n",
       "<style scoped>\n",
       "    .dataframe tbody tr th:only-of-type {\n",
       "        vertical-align: middle;\n",
       "    }\n",
       "\n",
       "    .dataframe tbody tr th {\n",
       "        vertical-align: top;\n",
       "    }\n",
       "\n",
       "    .dataframe thead th {\n",
       "        text-align: right;\n",
       "    }\n",
       "</style>\n",
       "<table border=\"1\" class=\"dataframe\">\n",
       "  <thead>\n",
       "    <tr style=\"text-align: right;\">\n",
       "      <th></th>\n",
       "      <th>Country</th>\n",
       "      <th>Customer_Count</th>\n",
       "    </tr>\n",
       "  </thead>\n",
       "  <tbody>\n",
       "    <tr>\n",
       "      <th>35</th>\n",
       "      <td>United Kingdom</td>\n",
       "      <td>3950</td>\n",
       "    </tr>\n",
       "    <tr>\n",
       "      <th>14</th>\n",
       "      <td>Germany</td>\n",
       "      <td>95</td>\n",
       "    </tr>\n",
       "    <tr>\n",
       "      <th>13</th>\n",
       "      <td>France</td>\n",
       "      <td>87</td>\n",
       "    </tr>\n",
       "    <tr>\n",
       "      <th>30</th>\n",
       "      <td>Spain</td>\n",
       "      <td>31</td>\n",
       "    </tr>\n",
       "    <tr>\n",
       "      <th>3</th>\n",
       "      <td>Belgium</td>\n",
       "      <td>25</td>\n",
       "    </tr>\n",
       "    <tr>\n",
       "      <th>32</th>\n",
       "      <td>Switzerland</td>\n",
       "      <td>21</td>\n",
       "    </tr>\n",
       "    <tr>\n",
       "      <th>26</th>\n",
       "      <td>Portugal</td>\n",
       "      <td>19</td>\n",
       "    </tr>\n",
       "    <tr>\n",
       "      <th>18</th>\n",
       "      <td>Italy</td>\n",
       "      <td>15</td>\n",
       "    </tr>\n",
       "    <tr>\n",
       "      <th>12</th>\n",
       "      <td>Finland</td>\n",
       "      <td>12</td>\n",
       "    </tr>\n",
       "    <tr>\n",
       "      <th>1</th>\n",
       "      <td>Austria</td>\n",
       "      <td>11</td>\n",
       "    </tr>\n",
       "  </tbody>\n",
       "</table>\n",
       "</div>"
      ],
      "text/plain": [
       "           Country  Customer_Count\n",
       "35  United Kingdom            3950\n",
       "14         Germany              95\n",
       "13          France              87\n",
       "30           Spain              31\n",
       "3          Belgium              25\n",
       "32     Switzerland              21\n",
       "26        Portugal              19\n",
       "18           Italy              15\n",
       "12         Finland              12\n",
       "1          Austria              11"
      ]
     },
     "execution_count": 34,
     "metadata": {},
     "output_type": "execute_result"
    }
   ],
   "source": [
    "customers_country = e_commerce.groupby('Country')['CustomerID'].nunique().reset_index().sort_values(by='CustomerID',ascending=False)\n",
    "customers_country.rename(columns={'CustomerID':'Customer_Count'}, inplace=True)\n",
    "customers_country = customers_country.head(10)\n",
    "customers_country"
   ]
  },
  {
   "cell_type": "code",
   "execution_count": 35,
   "id": "071597eb-b616-44c8-867c-d4f7444b7e10",
   "metadata": {
    "tags": []
   },
   "outputs": [
    {
     "data": {
      "image/png": "[encoded data removed]",
      "text/plain": [
       "<Figure size 1000x600 with 1 Axes>"
      ]
     },
     "metadata": {},
     "output_type": "display_data"
    }
   ],
   "source": [
    "# Plot \n",
    "sns.barplot(x=customers_country['Country'], y=customers_country['Customer_Count'])\n",
    "plt.xlabel('Country')\n",
    "plt.ylabel('Number of Customers')\n",
    "plt.title('Distribution of Customers Across Countries')\n",
    "plt.tight_layout()\n",
    "plt.show()"
   ]
  },
  {
   "cell_type": "markdown",
   "id": "29220aa4-3276-445f-8f45-af4f919e7537",
   "metadata": {
    "tags": []
   },
   "source": [
    "# Observation: Distribution of customers across different countries. \n",
    "+ UK has the most customers, followed by Germany and France. Austria has the lowest number of customers among the top 10."
   ]
  },
  {
   "cell_type": "code",
   "execution_count": 36,
   "id": "e4a1d039-689e-4448-be2a-b0d91f04e67e",
   "metadata": {
    "tags": []
   },
   "outputs": [
    {
     "data": {
      "text/html": [
       "<div>\n",
       "<style scoped>\n",
       "    .dataframe tbody tr th:only-of-type {\n",
       "        vertical-align: middle;\n",
       "    }\n",
       "\n",
       "    .dataframe tbody tr th {\n",
       "        vertical-align: top;\n",
       "    }\n",
       "\n",
       "    .dataframe thead th {\n",
       "        text-align: right;\n",
       "    }\n",
       "</style>\n",
       "<table border=\"1\" class=\"dataframe\">\n",
       "  <thead>\n",
       "    <tr style=\"text-align: right;\">\n",
       "      <th></th>\n",
       "      <th>Country</th>\n",
       "      <th>Invoice_Count</th>\n",
       "    </tr>\n",
       "  </thead>\n",
       "  <tbody>\n",
       "    <tr>\n",
       "      <th>35</th>\n",
       "      <td>United Kingdom</td>\n",
       "      <td>19857</td>\n",
       "    </tr>\n",
       "    <tr>\n",
       "      <th>14</th>\n",
       "      <td>Germany</td>\n",
       "      <td>603</td>\n",
       "    </tr>\n",
       "    <tr>\n",
       "      <th>13</th>\n",
       "      <td>France</td>\n",
       "      <td>458</td>\n",
       "    </tr>\n",
       "    <tr>\n",
       "      <th>10</th>\n",
       "      <td>EIRE</td>\n",
       "      <td>319</td>\n",
       "    </tr>\n",
       "    <tr>\n",
       "      <th>3</th>\n",
       "      <td>Belgium</td>\n",
       "      <td>119</td>\n",
       "    </tr>\n",
       "    <tr>\n",
       "      <th>30</th>\n",
       "      <td>Spain</td>\n",
       "      <td>105</td>\n",
       "    </tr>\n",
       "    <tr>\n",
       "      <th>23</th>\n",
       "      <td>Netherlands</td>\n",
       "      <td>101</td>\n",
       "    </tr>\n",
       "    <tr>\n",
       "      <th>32</th>\n",
       "      <td>Switzerland</td>\n",
       "      <td>71</td>\n",
       "    </tr>\n",
       "    <tr>\n",
       "      <th>26</th>\n",
       "      <td>Portugal</td>\n",
       "      <td>70</td>\n",
       "    </tr>\n",
       "    <tr>\n",
       "      <th>0</th>\n",
       "      <td>Australia</td>\n",
       "      <td>69</td>\n",
       "    </tr>\n",
       "  </tbody>\n",
       "</table>\n",
       "</div>"
      ],
      "text/plain": [
       "           Country  Invoice_Count\n",
       "35  United Kingdom          19857\n",
       "14         Germany            603\n",
       "13          France            458\n",
       "10            EIRE            319\n",
       "3          Belgium            119\n",
       "30           Spain            105\n",
       "23     Netherlands            101\n",
       "32     Switzerland             71\n",
       "26        Portugal             70\n",
       "0        Australia             69"
      ]
     },
     "execution_count": 36,
     "metadata": {},
     "output_type": "execute_result"
    }
   ],
   "source": [
    "invoice_country = e_commerce.groupby('Country')['InvoiceNo'].nunique().reset_index().sort_values(by='InvoiceNo',ascending=False).head(10)\n",
    "invoice_country.rename(columns={'InvoiceNo':'Invoice_Count'}, inplace=True)\n",
    "invoice_country"
   ]
  },
  {
   "cell_type": "code",
   "execution_count": 37,
   "id": "b20e0844-e0e9-4972-a52c-0d380b39d665",
   "metadata": {
    "tags": []
   },
   "outputs": [
    {
     "data": {
      "image/png": "[encoded data removed]",
      "text/plain": [
       "<Figure size 1000x600 with 1 Axes>"
      ]
     },
     "metadata": {},
     "output_type": "display_data"
    }
   ],
   "source": [
    "# Plot \n",
    "sns.barplot(x=invoice_country['Country'], y=invoice_country['Invoice_Count'])\n",
    "plt.xlabel('Country')\n",
    "plt.ylabel('Order Count')\n",
    "plt.title('Distribution of Transactions Across Countries')\n",
    "plt.tight_layout()\n",
    "plt.show()"
   ]
  },
  {
   "cell_type": "markdown",
   "id": "86cdd39b-0c5f-40af-b45d-ffab1c02c2a8",
   "metadata": {},
   "source": [
    "### Observation: Distribution of transactions across different countries.\n",
    "\n",
    "+ UK has the most transactions, followed by Germany and France. Australia has the lowest number of transactions among the top 10."
   ]
  },
  {
   "cell_type": "code",
   "execution_count": 38,
   "id": "0fa71f90-b715-46d4-81a8-deb0bc2a917c",
   "metadata": {
    "tags": []
   },
   "outputs": [
    {
     "data": {
      "image/png": "[encoded data removed]",
      "text/plain": [
       "<Figure size 1000x600 with 1 Axes>"
      ]
     },
     "metadata": {},
     "output_type": "display_data"
    }
   ],
   "source": [
    "# Group Country by total sales \n",
    "country_sales = e_commerce.groupby('Country')['SalesPrice'].sum().reset_index().sort_values('SalesPrice',ascending=False).head()\n",
    "\n",
    "# Plot \n",
    "sns.barplot(x=country_sales['Country'], y=country_sales['SalesPrice']/1000000)\n",
    "plt.xlabel('Country / Region')\n",
    "plt.ylabel('Total Sales (in millions $)')\n",
    "plt.title('Total Sales by Country: Top Performing Regions')\n",
    "plt.tight_layout()\n",
    "plt.show()"
   ]
  },
  {
   "cell_type": "markdown",
   "id": "95cebe5c-3dd0-42fb-ad71-099ae7ea51cd",
   "metadata": {
    "tags": []
   },
   "source": [
    "### Observation: Top-performing countries in terms of sales revenue.\n",
    "+ UK has highest sales revenue, Netherlands is second and France is fifth."
   ]
  }
 ],
 "metadata": {
  "kernelspec": {
   "display_name": "Python 3 (ipykernel)",
   "language": "python",
   "name": "python3"
  },
  "language_info": {
   "codemirror_mode": {
    "name": "ipython",
    "version": 3
   },
   "file_extension": ".py",
   "mimetype": "text/x-python",
   "name": "python",
   "nbconvert_exporter": "python",
   "pygments_lexer": "ipython3",
   "version": "3.10.9"
  }
 },
 "nbformat": 4,
 "nbformat_minor": 5
}
